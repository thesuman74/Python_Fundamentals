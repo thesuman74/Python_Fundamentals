{
 "cells": [
  {
   "cell_type": "markdown",
   "metadata": {},
   "source": [
    "# Contents\n",
    "- Variable Rules \n",
    "- Assigning Multiple values\n",
    "- Output variable\n",
    "- Global variables\n",
    "- Exercise \n",
    "- Interview Questions"
   ]
  },
  {
   "cell_type": "markdown",
   "metadata": {},
   "source": [
    "# Variables in Python"
   ]
  },
  {
   "cell_type": "markdown",
   "metadata": {},
   "source": [
    "Defination : Variables are the containers which are used for storing Data Values.\n"
   ]
  },
  {
   "cell_type": "markdown",
   "metadata": {},
   "source": [
    "## 1. variable Naming Rules\n",
    "\n",
    "Naming rules are basically like other languages \n",
    "- must start with letter or underscore but not number ==> var , var1 , (1var)\n",
    "- can contain (A-z, 0-9, _)  ==> var_name , var1name (1var,var name)\n",
    "- Case sensitive (name and Name are different)\n",
    "- mustn't use keyword name ==> continue, break , class\n"
   ]
  },
  {
   "cell_type": "markdown",
   "metadata": {},
   "source": [
    "#### creation \n",
    "Variables are simply created by assing value to them\n"
   ]
  },
  {
   "cell_type": "code",
   "execution_count": 10,
   "metadata": {},
   "outputs": [
    {
     "name": "stdout",
     "output_type": "stream",
     "text": [
      "ram\n"
     ]
    }
   ],
   "source": [
    "Name = \"ram\"\n",
    "\n",
    "print(Name)"
   ]
  },
  {
   "cell_type": "markdown",
   "metadata": {},
   "source": [
    "#### Casting:\n",
    "It is a way of specifying the data type of a variable"
   ]
  },
  {
   "cell_type": "code",
   "execution_count": null,
   "metadata": {},
   "outputs": [],
   "source": [
    "x = str(3)    # x will be '3'\n",
    "y = int(3)    # y will be 3\n",
    "z = float(3)  # z will be 3.0"
   ]
  },
  {
   "cell_type": "markdown",
   "metadata": {},
   "source": [
    "#### Get type of variable :"
   ]
  },
  {
   "cell_type": "code",
   "execution_count": 12,
   "metadata": {},
   "outputs": [
    {
     "name": "stdout",
     "output_type": "stream",
     "text": [
      "<class 'int'>\n",
      "<class 'str'>\n"
     ]
    }
   ],
   "source": [
    "x = 5\n",
    "y = \"jhon\"\n",
    "print(type(x))\n",
    "print(type(y))"
   ]
  },
  {
   "cell_type": "markdown",
   "metadata": {},
   "source": [
    "In python Single quotes and Double quotes are same\n",
    " i.e x = \"ram \" is same as x = 'ram' <br>\n",
    " and variable are case sensitive \n",
    "i.e a and A are different "
   ]
  },
  {
   "cell_type": "markdown",
   "metadata": {},
   "source": [
    "## 2. Assigning Multiple values\n"
   ]
  },
  {
   "cell_type": "markdown",
   "metadata": {},
   "source": [
    "#### We can assign values to multiple variable in one line"
   ]
  },
  {
   "cell_type": "code",
   "execution_count": 13,
   "metadata": {},
   "outputs": [
    {
     "name": "stdout",
     "output_type": "stream",
     "text": [
      "ram\n",
      "Orange\n",
      "5 ram False\n"
     ]
    }
   ],
   "source": [
    "name = \"ram\"\n",
    "x, y, z = \"Orange\", \"Banana\", \"Cherry\"\n",
    "a, b, c = 5, \"ram\", False  #can assign different type of variables \n",
    "\n",
    "print(name)\n",
    "print(x)\n",
    "print(a,b,c)"
   ]
  },
  {
   "cell_type": "markdown",
   "metadata": {},
   "source": [
    "#### 2.1 No of elements should match  \n",
    "we cannot do this ,"
   ]
  },
  {
   "cell_type": "code",
   "execution_count": 15,
   "metadata": {},
   "outputs": [
    {
     "name": "stdout",
     "output_type": "stream",
     "text": [
      "5 banana\n"
     ]
    }
   ],
   "source": [
    "x , y, z = 5, \"banana\", 'cherry'\n",
    "print(x, y)"
   ]
  },
  {
   "cell_type": "markdown",
   "metadata": {},
   "source": [
    "### 2.2 One value to multiple variables \n"
   ]
  },
  {
   "cell_type": "code",
   "execution_count": 16,
   "metadata": {},
   "outputs": [
    {
     "name": "stdout",
     "output_type": "stream",
     "text": [
      "orange orange orange\n",
      "apple banana cherry\n"
     ]
    }
   ],
   "source": [
    "x = y = z = \"orange\"\n",
    "print(x, y, z)\n",
    "\n",
    "\n",
    "fruits = [\"apple\", \"banana\", \"cherry\"] \n",
    "a, b, c = fruits # unpacking\n",
    "print(a,b,c)\n"
   ]
  },
  {
   "cell_type": "markdown",
   "metadata": {},
   "source": [
    "## 3. Variables Output \n",
    "print() function is used <br>\n"
   ]
  },
  {
   "cell_type": "markdown",
   "metadata": {},
   "source": [
    "#### 3.1 Printing strings "
   ]
  },
  {
   "cell_type": "code",
   "execution_count": 18,
   "metadata": {},
   "outputs": [
    {
     "name": "stdout",
     "output_type": "stream",
     "text": [
      "Python is awesome\n",
      "Pythonisawesome\n"
     ]
    }
   ],
   "source": [
    "x = \"Python\"\n",
    "y = \"is\"\n",
    "z = \"awesome\"\n",
    "print(x, y, z) # , gives output with space\n",
    "print(x + y + z) # + gives output without space"
   ]
  },
  {
   "cell_type": "markdown",
   "metadata": {},
   "source": [
    "#### 3.2 Printing Numbers and their sum \n"
   ]
  },
  {
   "cell_type": "code",
   "execution_count": 19,
   "metadata": {},
   "outputs": [
    {
     "name": "stdout",
     "output_type": "stream",
     "text": [
      "15\n",
      "5 10\n"
     ]
    }
   ],
   "source": [
    "x = 5\n",
    "y = 10\n",
    "print(x + y) # sum\n",
    "print (x,y) #concatenation of numbers"
   ]
  },
  {
   "cell_type": "markdown",
   "metadata": {},
   "source": [
    "#### 3.2 Printing Numbers and strings together\n",
    "\n"
   ]
  },
  {
   "cell_type": "code",
   "execution_count": 23,
   "metadata": {},
   "outputs": [
    {
     "name": "stdout",
     "output_type": "stream",
     "text": [
      "5 six \n",
      "5 six \n"
     ]
    }
   ],
   "source": [
    "x = 5 \n",
    "z = \"six \"\n",
    "# print(x + z) # error \n",
    "print(x, z)  \n",
    "print(f\"{x} {z}\")"
   ]
  },
  {
   "cell_type": "markdown",
   "metadata": {},
   "source": [
    "## 4. Global Variables - Scope\n",
    "variable that are created \n",
    "outside a function and can be used \n",
    " by everyone ,both inside of function and outside of function "
   ]
  },
  {
   "cell_type": "code",
   "execution_count": 26,
   "metadata": {},
   "outputs": [
    {
     "name": "stdout",
     "output_type": "stream",
     "text": [
      "Python is awesome\n"
     ]
    }
   ],
   "source": [
    "x = \"awesome\" # defined outside the function\n",
    "\n",
    "def myfunc():\n",
    "  print(\"Python is \" + x)\n",
    "\n",
    "myfunc()"
   ]
  },
  {
   "cell_type": "markdown",
   "metadata": {},
   "source": [
    "## Exercise:\n",
    "\n",
    "create three variables:\n",
    "- First_Name ,\n",
    "-  Last_Name \n",
    "- Age .\n",
    "\n",
    "<br> Make First_Name global and Last_Name and Age as local variable and print `ram sharma is 23 years old.`\n"
   ]
  },
  {
   "cell_type": "code",
   "execution_count": 25,
   "metadata": {},
   "outputs": [
    {
     "name": "stdout",
     "output_type": "stream",
     "text": [
      "ram sharma is 23 years old.\n"
     ]
    }
   ],
   "source": [
    "def myfunc():\n",
    "    global First_Name\n",
    "First_Name = \"ram\"\n",
    "# print(type(x))\n",
    "\n",
    "def anotherfunc():\n",
    "    Last_Name, age = \"sharma\" , 23\n",
    "    print(f\"{First_Name} {Last_Name} is {age} years old.\")\n",
    "    \n",
    "anotherfunc()"
   ]
  },
  {
   "cell_type": "markdown",
   "metadata": {},
   "source": [
    "# Interview Questions\n",
    "These Questions are leveled from Basic to Advance . If you have basic knowledge of variable You can try Questions above 10."
   ]
  },
  {
   "cell_type": "markdown",
   "metadata": {},
   "source": [
    "1. What is a variable in Python?\n",
    "- Answer: A variable in Python is a named container that stores data values.\n",
    "***\n",
    "\n",
    "2. How do you assign a value to a variable in Python?\n",
    "- Answer: You assign a value to a variable using the assignment operator =. For example, x = 5.\n",
    "---\n",
    "\n",
    "3. Explain the rules for naming variables in Python.\n",
    "- Answer: Variable names must start with a letter or underscore, followed by letters, numbers, or underscores. They are case-sensitive and shouldn't use reserved keywords.\n",
    "---\n",
    "\n",
    "4. What is variable casting in Python?\n",
    "- Answer: Variable casting is the process of converting a variable's data type to another type. For example, using str(), int(), or float().\n",
    "---\n",
    "\n",
    "5. How can you assign values to multiple variables in one line in Python?\n",
    "- Answer: You can assign values to multiple variables in one line like this: ``` x, y, z = \"Orange\", \"Banana\", \"Cherry\" ```\n",
    "---\n",
    "\n",
    "6. What is the scope of a variable in Python?\n",
    "- Answer: Variables in Python can have local or global scope. Local variables are confined to a specific function, while global variables are accessible everywhere.\n",
    "---\n",
    "\n",
    "7. How do you print the value of a variable in Python?\n",
    "- Answer: You can print the value of a variable using the print() function. For example, print(x) will print the value of x.\n",
    "---\n",
    "\n",
    "8. What is variable shadowing?\n",
    "- Answer: Variable shadowing occurs when a local variable has the same name as a global variable, potentially leading to confusion. Local variables take precedence over global variables within their scope.\n",
    "---\n",
    "\n",
    "9. Explain the concept of variable unpacking in Python.\n",
    "- Answer: Variable unpacking allows you to assign elements from an iterable (e.g., list, tuple) to multiple variables in a single line. For example, a, b, c = (1, 2, 3).\n",
    "---\n",
    "\n",
    "10. Why is it important to choose meaningful variable names in Python?\n",
    "- Answer: Meaningful variable names make your code more readable and maintainable. They convey the purpose of the variable and improve code comprehension.\n",
    "---\n",
    "\n",
    "11. What are global variables, and how are they different from local variables?\n",
    "\n",
    "- Global variables are defined outside of any function and can be accessed from anywhere in the code. Local variables are declared within a specific function and can only be accessed within that function.\n",
    "---\n",
    "\n",
    "12. How can you access global variables within functions?\n",
    "\n",
    "To access global variables within functions, you can use the global keyword before the variable name. For example: \n",
    "``` python\n",
    "x = \"global\"\n",
    "\n",
    "def myfunc():\n",
    "    global x\n",
    "    print(x)\n",
    "```\n",
    "---\n",
    "\n",
    "13. Can you modify a global variable from within a function?\n",
    "\n",
    "- Yes, you can modify a global variable from within a function by using the global keyword before the variable name to indicate that you intend to modify the global variable.\n",
    "---\n",
    "\n",
    "14. What are some best practices for naming variables in Python?\n",
    "- Best practices for naming variables include using descriptive and meaningful names, following naming conventions (e.g., using lowercase and underscores for variables), and avoiding single-letter or ambiguous names.\n",
    "---\n",
    "\n",
    "15. What is a NameError in Python, and when does it occur with variables?\n",
    "\n",
    "- A NameError occurs in Python when a variable is used before it is defined. This error can occur if you try to access a variable that is out of scope or has not been declared.\n",
    "---\n",
    "\n",
    "16. How does variable scope work inside loops, such as for and while loops?\n",
    "\n",
    "- Variables declared within a loop have local scope and are accessible only within that loop. They do not exist outside the loop unless explicitly defined globally.\n",
    "---\n",
    "\n",
    "17. What is variable shadowing, and why should it be avoided?\n",
    "\n",
    "- Variable shadowing occurs when a local variable within a scope has the same name as a variable in an outer scope. It should be avoided because it can lead to confusion and unintended behavior."
   ]
  }
 ],
 "metadata": {
  "kernelspec": {
   "display_name": "Python 3",
   "language": "python",
   "name": "python3"
  },
  "language_info": {
   "codemirror_mode": {
    "name": "ipython",
    "version": 3
   },
   "file_extension": ".py",
   "mimetype": "text/x-python",
   "name": "python",
   "nbconvert_exporter": "python",
   "pygments_lexer": "ipython3",
   "version": "3.11.5"
  }
 },
 "nbformat": 4,
 "nbformat_minor": 2
}
