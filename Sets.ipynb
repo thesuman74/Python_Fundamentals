{
 "cells": [
  {
   "cell_type": "markdown",
   "metadata": {},
   "source": [
    "# Sets\n",
    "- Sets are used to store multiple items in a single variable.\n",
    "- A set is a collection which is unique, unordered, unchangeable*, and unindexed.\n",
    "\n",
    "- Sets are written with curly brackets.\n",
    "\n",
    "- Set items are unchangeable, but you can remove items and add new items.\n",
    "- The values True and 1 are considered the same value in sets, and are treated as duplicates:\n",
    "\n",
    "\n"
   ]
  },
  {
   "cell_type": "markdown",
   "metadata": {},
   "source": [
    "#### Python Collections (Arrays)\n",
    "There are four collection data types in the Python programming language:\n",
    "\n",
    "- **List []** is a collection which is ordered and changeable. Allows duplicate members.\n",
    "- **Tuple ()** is a collection which is ordered and unchangeable. Allows duplicate members.\n",
    "- **Set {}** is a collection which is unordered, unchangeable*, and unindexed. No duplicate members.\n",
    "- **Dictionary{key:value}** is a collection which is ordered** and changeable. No duplicate members."
   ]
  },
  {
   "cell_type": "markdown",
   "metadata": {},
   "source": [
    "## 1. Creation of Set\n",
    "we can create set by using curly barces and adding any value of different datatypes and also by using `set()`constructor "
   ]
  },
  {
   "cell_type": "code",
   "execution_count": 5,
   "metadata": {},
   "outputs": [
    {
     "name": "stdout",
     "output_type": "stream",
     "text": [
      "{True, 2, 'banana', 'apple', 'cherry'}\n",
      "{True, 2, 'banana', 'apple', 'cherry'}\n"
     ]
    }
   ],
   "source": [
    "thisset = {\"apple\", \"banana\", \"cherry\", True,2} \n",
    "print(thisset) # output will be unordered\n",
    "\n",
    "nextset = {\"apple\", \"banana\", \"cherry\", True, 1, 2} # 1 and True are duplicate values so last occurance will be deleted\n",
    "print(nextset)"
   ]
  },
  {
   "cell_type": "code",
   "execution_count": null,
   "metadata": {},
   "outputs": [],
   "source": [
    "#using set constructor \n",
    "thisset = set((\"apple\", \"banana\", \"cherry\")) # note the double round-brackets\n",
    "print(thisset)"
   ]
  },
  {
   "cell_type": "markdown",
   "metadata": {},
   "source": [
    "## 2. Access items \n",
    "You cannot access items in a set by referring to an index or a key.\n",
    "We need to use For loop "
   ]
  },
  {
   "cell_type": "code",
   "execution_count": null,
   "metadata": {},
   "outputs": [],
   "source": [
    "thisset = {\"apple\", \"banana\", \"cherry\"}\n",
    "\n",
    "for items in thisset:\n",
    "    print(items)"
   ]
  },
  {
   "cell_type": "markdown",
   "metadata": {},
   "source": [
    "## 2. Change items\n",
    "Once a set is created, you cannot change its items, but you can add new items.\n",
    "\n"
   ]
  },
  {
   "cell_type": "markdown",
   "metadata": {},
   "source": [
    "### 2.1 Add items\n",
    "- add() ==> add one items\n",
    "- update() ==> any iterable object (tuples, lists, dictionaries etc.)\n",
    "\n",
    "\n"
   ]
  },
  {
   "cell_type": "code",
   "execution_count": null,
   "metadata": {},
   "outputs": [],
   "source": [
    "thisset = {\"apple\", \"banana\", \"cherry\"}\n",
    "\n",
    "thisset.add(\"orange\")\n",
    "\n",
    "print(thisset)"
   ]
  },
  {
   "cell_type": "code",
   "execution_count": null,
   "metadata": {},
   "outputs": [],
   "source": [
    "#Add elements from iterables:\n",
    "thisset = {\"apple\", \"banana\", \"cherry\"}\n",
    "nextset = {\"pineapple\", \"mango\", \"papaya\"}\n",
    "\n",
    "thisset.update(nextset)\n",
    "\n",
    "print(thisset)\n",
    "\n",
    "# adding list \n",
    "mylist = [\"kiwi\", \"orange\"]\n",
    "thisset.update(mylist)\n",
    "print(thisset)"
   ]
  },
  {
   "cell_type": "markdown",
   "metadata": {},
   "source": [
    "## 2.2 Remove item\n",
    "To remove an item in a set, We can use \n",
    "- remove(),\n",
    "- discard() \n",
    "- pop()  ==> not effective\n",
    "- clear() \n",
    "- del ()\n",
    "\n"
   ]
  },
  {
   "cell_type": "code",
   "execution_count": null,
   "metadata": {},
   "outputs": [],
   "source": [
    "thisset = {\"apple\", \"banana\", \"cherry\"}\n",
    "\n",
    "thisset.remove(\"banana\") # if item not present returns error\n",
    "thisset.discard(\"apple\") # if item not present doesn't returns error\n",
    "# thisset.pop() #removes random element so ineffective \n",
    "# thisset.clear() #empties the set\n",
    "# del thisset # delete the set completely\n",
    "print(thisset)"
   ]
  },
  {
   "cell_type": "markdown",
   "metadata": {},
   "source": [
    "## 3. Loops in sets \n",
    "As sets are unordered and unindex we can only use for loop \n",
    "- for loop \n",
    "- while loop ==> after converting to list "
   ]
  },
  {
   "cell_type": "code",
   "execution_count": null,
   "metadata": {},
   "outputs": [],
   "source": [
    "#for loop \n",
    "my_set = {1, 2, 3, 4, 5}\n",
    "\n",
    "for element in my_set:\n",
    "    print(element)"
   ]
  },
  {
   "cell_type": "code",
   "execution_count": null,
   "metadata": {},
   "outputs": [],
   "source": [
    "# while loop \n",
    "\n",
    "my_set = {1, 2, 3, 4, 5}\n",
    "\n",
    "# Convert the set to a list for indexing in a while loop\n",
    "elements = list(my_set)\n",
    "index = 0\n",
    "\n",
    "while index < len(elements):\n",
    "    print(elements[index])\n",
    "    index += 1\n"
   ]
  },
  {
   "cell_type": "markdown",
   "metadata": {},
   "source": [
    "## 4. Set operations\n",
    "- union() - joins two sets\n",
    "- intersection() --> returns new set with elements from both sets\n",
    "- intersectin_update() --> keeps only items present in both sets\n",
    "- difference() --> difference of two sets \n",
    "- symmetirc_difference_update() --> keep only the elements that are not present in both sets \n",
    "- symmetric_difference () -- reurns new set with only elements not present in both"
   ]
  },
  {
   "cell_type": "code",
   "execution_count": 22,
   "metadata": {},
   "outputs": [
    {
     "name": "stdout",
     "output_type": "stream",
     "text": [
      "{'banana', 'google', 'apple', 'cherry', 'microsoft'}\n",
      "{'apple'}\n",
      "{'apple'}\n",
      "{'google', 'microsoft'}\n"
     ]
    }
   ],
   "source": [
    "x = {\"apple\", \"banana\", \"cherry\"}\n",
    "y = {\"google\", \"microsoft\", \"apple\"}\n",
    "\n",
    "print(x.union(y))\n",
    "print(x.intersection(y))\n",
    "\n",
    "x.intersection_update(y)\n",
    "print(x)\n",
    "\n",
    "x.symmetric_difference_update(y)\n",
    "print(x)\n"
   ]
  }
 ],
 "metadata": {
  "kernelspec": {
   "display_name": "Python 3",
   "language": "python",
   "name": "python3"
  },
  "language_info": {
   "codemirror_mode": {
    "name": "ipython",
    "version": 3
   },
   "file_extension": ".py",
   "mimetype": "text/x-python",
   "name": "python",
   "nbconvert_exporter": "python",
   "pygments_lexer": "ipython3",
   "version": "3.11.5"
  }
 },
 "nbformat": 4,
 "nbformat_minor": 2
}
