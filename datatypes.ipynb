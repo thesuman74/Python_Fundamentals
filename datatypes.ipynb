{
 "cells": [
  {
   "cell_type": "markdown",
   "metadata": {},
   "source": [
    "# Contents\n",
    "\n",
    "- Basic vs Python built in data types \n",
    "- Data types in detail\n",
    "- casting \n",
    "- strings \n",
    "    - strings : checking presence of string \n",
    "    - slicing strings \n",
    "    - combining strings \n",
    "    - Escape characters\n",
    "\n",
    "- Exercise \n",
    "- Interview Questions"
   ]
  },
  {
   "cell_type": "markdown",
   "metadata": {},
   "source": [
    "## Basic data types  \n",
    "\n",
    "Data type is a way of classifying the data based on the value of a variable can hold. \n",
    "\n",
    "Data types are important for both programmers and computers to understand what type of data we are working with.\n",
    "\n",
    "unlike other languages lenght is determined by the underlying architecutre and the available mermory. \n",
    "\n",
    "- integers (int) \n",
    "- float(float) \n",
    "- Strings (str)\n",
    "- booleans (bool) ==> True | False \n",
    "- None (NoneType)"
   ]
  },
  {
   "cell_type": "markdown",
   "metadata": {},
   "source": [
    "## Python built in data types \n",
    "- Text types : Strings \n",
    "- Numeric Types : Int, float, complex\n",
    "- Sequence Types : list, tuple,\n",
    "- Mapping Types : dict \n",
    "- Set Types : set, forzenset\n",
    "- Boolean Types : bool \n",
    "- Binary Types : bytes, bytearray, memoryview \n",
    "- NoneType : NoneType"
   ]
  },
  {
   "cell_type": "markdown",
   "metadata": {},
   "source": [
    "# Types of numbers "
   ]
  },
  {
   "cell_type": "markdown",
   "metadata": {},
   "source": [
    "![Alt text](image-3.png)\n"
   ]
  },
  {
   "cell_type": "markdown",
   "metadata": {},
   "source": [
    "# Data types in detail\n"
   ]
  },
  {
   "cell_type": "markdown",
   "metadata": {},
   "source": [
    "| Variable Declaration             | Data Type        | Description |\n",
    "|---------------------------------|------------------|---------------|\n",
    "| x = \"Hello World\"               | str              |text or sequence of characters|\n",
    "| x = 20 , -10                          | int              |integers, whole numbers |\n",
    "| x = 20.5,1.2, -0.5                         | float            |Numbers with decimal Point|\n",
    "| x = 3 + 2j                         | complex          | complex numbers (real and imaginary), advance mathematics, engineering where imaginary components are present\n",
    "| x = [\"apple\", \"banana\", \"cherry\"] | list            | ordered, changable, allow duplicate\n",
    "| x = (\"apple\", \"banana\", \"cherry\") | tuple          | ordered, unchangable, allow duplicate\n",
    "| x = {\"name\" : \"John\", \"age\" : 36} | dict            | ordered, changable, No duplicate,  key : value pairs |\n",
    "| x = {\"apple\", \"banana\", \"cherry\"} | set            | unordered, unchangable, No duplicate |\n",
    "| x = frozenset({\"apple\", \"banana\", \"cherry\"}) | frozenset | Immutable, unique, new set without modifying old set\n",
    "| x = True                        | bool             | logical Value , True(any non zero num) , False\n",
    "| x = None                        | NoneType         | Null value | \n"
   ]
  },
  {
   "cell_type": "markdown",
   "metadata": {},
   "source": [
    "### Casting : Changing the data type"
   ]
  },
  {
   "cell_type": "code",
   "execution_count": null,
   "metadata": {},
   "outputs": [],
   "source": [
    "x = int(7)\n",
    "print(type(x))"
   ]
  },
  {
   "cell_type": "markdown",
   "metadata": {},
   "source": [
    "## 2. Strings \n",
    "strings in Python are arrays of bytes representing unicode characters. Square brackets can be used to access elements of the string.\n",
    "\n"
   ]
  },
  {
   "cell_type": "code",
   "execution_count": null,
   "metadata": {},
   "outputs": [],
   "source": [
    "a = \"hello\"\n",
    "print(a)\n",
    "print(a[1])"
   ]
  },
  {
   "cell_type": "markdown",
   "metadata": {},
   "source": [
    "Looping through strings \n",
    "\n",
    "we can use for loop to loop through strings "
   ]
  },
  {
   "cell_type": "code",
   "execution_count": null,
   "metadata": {},
   "outputs": [],
   "source": [
    "a = \"hello\"\n",
    "for x in a:\n",
    "    print(x)"
   ]
  },
  {
   "cell_type": "markdown",
   "metadata": {},
   "source": [
    "#### 2.1 Check string presence using in and not\n"
   ]
  },
  {
   "cell_type": "code",
   "execution_count": null,
   "metadata": {},
   "outputs": [],
   "source": [
    "txt = \"The best things in life are free!\"\n",
    "if \"free\" in txt:\n",
    "    print(\"Free is present\")\n",
    "else:\n",
    "    print(\"free is not present\")\n",
    "    \n",
    "#also it can do done as \n",
    "print(\"expensive\" in txt)\n",
    "print(\"expensive\" not in txt)"
   ]
  },
  {
   "cell_type": "markdown",
   "metadata": {},
   "source": [
    "#### 2.2 Slicing in string\n",
    "  (text[start:end:step]) , here we pass index of string which starts with  0\n"
   ]
  },
  {
   "cell_type": "code",
   "execution_count": null,
   "metadata": {},
   "outputs": [],
   "source": [
    "b = \"Hello, World!\"\n",
    "print(b[0:5]) # slicing from first to 5th character  (excluding index 5)\n",
    "print(b[0:]) # slicing from first to end\n",
    "print(b[-5:-1]) # slicing from first to end\n",
    "print(b[::-1]) # from last to first with step 1 \n",
    "print(b[:1:-1]) # from last to index 1 with step 1 \n"
   ]
  },
  {
   "cell_type": "markdown",
   "metadata": {},
   "source": [
    "#### 2.3 Modifying strings \n",
    "Python has a set of built-in methods that you can use on strings."
   ]
  },
  {
   "cell_type": "code",
   "execution_count": null,
   "metadata": {},
   "outputs": [],
   "source": [
    "txt = \" The best things in life, are free!  \"\n",
    "print(txt.upper()) # converts to upper case \n",
    "print(txt.lower()) # converts to lower\n",
    "print (txt.strip()) #removes white spaces before/after quotation mark\n",
    "print(txt.replace(\"t\", \"a\")) # replace t with a \n",
    "print(txt.split(\",\")) # returns seperate elements after seperating with ,\n"
   ]
  },
  {
   "cell_type": "markdown",
   "metadata": {},
   "source": [
    "#### 2.4 Combining string with formats\n",
    "We cannot combine strings and number together with + so we use formats \n",
    "also we can use .join()"
   ]
  },
  {
   "cell_type": "code",
   "execution_count": null,
   "metadata": {},
   "outputs": [],
   "source": [
    "age = 36\n",
    "info = \"My name is John, and I am {}\"\n",
    "print(info.format(age)) #old way\n",
    "print(f\"i am {age} years old \") #new way"
   ]
  },
  {
   "cell_type": "markdown",
   "metadata": {},
   "source": [
    "#### 2.5 Escape characters"
   ]
  },
  {
   "cell_type": "code",
   "execution_count": null,
   "metadata": {},
   "outputs": [],
   "source": [
    "# txt = 'We are the so-called \"Vikings\" from the north.' # this is invalid \n",
    "txt = \"We are the so-called \\\"Vikings\\\" from the north.\"\n",
    "print(txt)"
   ]
  },
  {
   "cell_type": "markdown",
   "metadata": {},
   "source": [
    "## Exercise 1:\n",
    "\n"
   ]
  },
  {
   "cell_type": "markdown",
   "metadata": {},
   "source": [
    "###\n",
    "-   Question: How can you reverse a string in Python using slicing? Provide an example.\n",
    "-   Answer: You can reverse a string by using slicing with a step of -1.\n"
   ]
  },
  {
   "cell_type": "code",
   "execution_count": null,
   "metadata": {},
   "outputs": [],
   "source": [
    "my_string = \"Hello\"\n",
    "reversed_string = my_string[::-1]\n",
    "print(reversed_string)  # Output: \"olleH\"\n"
   ]
  },
  {
   "cell_type": "markdown",
   "metadata": {},
   "source": [
    "## Exercise 2 : \n"
   ]
  },
  {
   "cell_type": "markdown",
   "metadata": {},
   "source": [
    "## \n",
    "Print characters from a string that are present at an even index number. <br>\n",
    "For example, str = \"pynative\" so you should display ‘p’, ‘n’, ‘t’, ‘v’.\n",
    "\n"
   ]
  },
  {
   "cell_type": "code",
   "execution_count": null,
   "metadata": {},
   "outputs": [],
   "source": [
    "# accept input string from a user\n",
    "word = input('Enter word ')\n",
    "print(\"Original String:\", word)\n",
    "\n",
    "# using list slicing\n",
    "# convert string to list\n",
    "# pick only even index chars\n",
    "x = list(word)\n",
    "for i in x[0::2]:\n",
    "    print(i)"
   ]
  },
  {
   "cell_type": "markdown",
   "metadata": {},
   "source": [
    "#\n",
    "If you want to practice more exercise , [click here](https://pynative.com/python-exercises-with-solutions/)"
   ]
  },
  {
   "cell_type": "markdown",
   "metadata": {},
   "source": [
    "# Interview Questions"
   ]
  },
  {
   "cell_type": "markdown",
   "metadata": {},
   "source": [
    "\n",
    "Data Types:\n",
    "\n",
    "1.  What is the difference between mutable and immutable data types in Python?\n",
    "\n",
    "    -   Answer: Mutable data types can be changed after creation, while immutable data types cannot.\n",
    "    -   Example: Lists are mutable, and you can change their elements. Tuples are immutable; once created, you cannot change their elements.\n",
    "    ---\n",
    "2.  Explain the concept of dynamic typing in Python and how it differs from static typing.\n",
    "\n",
    "    -   Answer: In Python, data types are determined at runtime (dynamic typing), unlike statically typed languages where data types are defined at compile time.\n",
    "    -   Example: You can assign different data types to a variable without declaring the type explicitly, e.g., `x = 5`, and later `x = \"Hello\"`.\n",
    "    ---\n",
    "3.  How do you determine the data type of a variable in Python?\n",
    "\n",
    "    -   Answer: You can use the `type()` function.\n",
    "    -   Example: `x = 42`, and then `type(x)` returns `<class 'int'>`.\n",
    "    ---\n",
    "4.  Explain the difference between \"is\" and \"==\" when comparing two variables in Python.\n",
    "\n",
    "    -   Answer: \"is\" checks if two variables reference the same object, while \"==\" checks if their values are equal.\n",
    "    -   Example: `a = [1, 2]`, `b = a`, `a is b` is True, and `a == b` is also True.\n",
    "   \n",
    "```python\n",
    "                x = [1, 2, 3]\n",
    "                y = x  # Both x and y reference the same list in memory i.e y = [1, 2, 3]\n",
    "                z = [4, 5, 6]\n",
    "\n",
    "                print(x is y)  # True, because x and y reference the same list\n",
    "                print(x is z)  # False, because x and z reference different lists\n",
    "                print(x == y)  # True, because x and y have the same content\n",
    "                print(x == z)  # False, because x and z have different content\n",
    " ```\n",
    "---\n",
    "5.  What is the purpose of the None data type in Python, and when is it typically used?\n",
    "\n",
    "    -   Answer: `None` is used to represent the absence of a value or a null value, often used to initialize variables before assigning meaningful values.\n",
    "    -   Example: `result = None`.\n",
    "    ---\n",
    "\n",
    "Strings:\n",
    "\n",
    "6.  How do you concatenate two strings in Python, and what are some alternatives to do so?\n",
    "\n",
    "    -   Answer: You can use the `+` operator for concatenation. Other methods include `join()` and f-strings.\n",
    "    -   Example: `\"Hello, \" + \"World!\"` results in \"Hello, World!\".\n",
    "    ---\n",
    "7.  Explain the concept of string interpolation in Python and provide an example.\n",
    "\n",
    "    -   Answer: String interpolation is embedding expressions within strings. In Python, you can use f-strings.\n",
    "    -   Example: `name = \"Alice\"; f\"Hello, {name}\"` results in \"Hello, Alice\".\n",
    "    ---\n",
    "8.  What is the difference between single-quoted and double-quoted strings in Python?\n",
    "\n",
    "    -   Answer: Single-quoted and double-quoted strings are functionally equivalent. Use one type to create a string, e.g., `'Hello'` or `\"World\"`.\n",
    "    ---\n",
    "9.  How can you check if a string contains a specific substring in Python, and what is the role of the \"in\" keyword?\n",
    "\n",
    "    -   Answer: Use the `in` keyword to check if a substring exists within a string.\n",
    "    -   Example: `\"world\" in \"Hello, World!\"` is True.\n",
    "    ---\n",
    "10.  What are escape characters in strings, and can you give examples of their usage?\n",
    "\n",
    "-   Answer: Escape characters are used to include special characters in strings. Examples include \"\\n\" for a new line and \"\\t\" for a tab.\n",
    "---\n",
    "11.  Describe the difference between slicing and indexing strings in Python, and provide examples of each.\n",
    "\n",
    "-   Answer: Indexing accesses individual characters, while slicing extracts a portion of a string.\n",
    "-   Example: `\"Hello\"[1]` returns \"e\", and `\"Hello\"[1:4]` returns \"ell\".\n",
    "---\n",
    "12.  What are some common string methods in Python, and when would you use methods like `split()`, `join()`, and `replace()`?\n",
    "\n",
    "-   Answer: Common string methods include `split()`, `join()`, and `replace()`. `split()` is used to split a string into a list of substrings based on a delimiter, `join()` is used to concatenate a list of strings, and `replace()` is used to replace a substring with another in a string.\n",
    "\n",
    "These short answers and examples should help you prepare for interview questions related to data types and strings in Python."
   ]
  }
 ],
 "metadata": {
  "kernelspec": {
   "display_name": "Python 3",
   "language": "python",
   "name": "python3"
  },
  "language_info": {
   "codemirror_mode": {
    "name": "ipython",
    "version": 3
   },
   "file_extension": ".py",
   "mimetype": "text/x-python",
   "name": "python",
   "nbconvert_exporter": "python",
   "pygments_lexer": "ipython3",
   "version": "3.11.5"
  }
 },
 "nbformat": 4,
 "nbformat_minor": 2
}
