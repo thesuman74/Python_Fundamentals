{
 "cells": [
  {
   "cell_type": "markdown",
   "metadata": {},
   "source": [
    "## Python Operators\n",
    "Operators are used to perform operations on variables and values.\n",
    "Python divides the operators in the following groups:\n",
    "\n",
    "- Arithmetic operators: +, -, *, /, %, //, **\n",
    "- Assignment operators: =, +=, -=, *=, /=, %=, //=, **=\n",
    "- Comparison operators: ==, !=, <, >, <=, >=\n",
    "- Logical operators: and, or, not\n",
    "- Identity operators: is, is not\n",
    "- Membership operators: in, not in\n",
    "- Bitwise operators: &, |, ^, ~, <<, >>"
   ]
  },
  {
   "cell_type": "markdown",
   "metadata": {},
   "source": [
    "### Operator Precedence\n",
    "![Alt text](image.png)"
   ]
  }
 ],
 "metadata": {
  "language_info": {
   "name": "python"
  }
 },
 "nbformat": 4,
 "nbformat_minor": 2
}
