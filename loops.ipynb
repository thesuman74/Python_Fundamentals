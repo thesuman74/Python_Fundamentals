{
 "cells": [
  {
   "cell_type": "markdown",
   "metadata": {},
   "source": [
    "Python Loops\n",
    "Python has two primitive loop commands:\n",
    "\n",
    "- while loops\n",
    "- for loops"
   ]
  },
  {
   "cell_type": "markdown",
   "metadata": {},
   "source": [
    "# 1. While loop \n",
    "It execute a set of statements as long as a condition is true . We can use three different statements to control while loop in python:\n",
    "- break()\n",
    "- continue()\n",
    "- else\n",
    "\n",
    "**break()** :stop loop even if while condtion is true <br>\n",
    "**continue()** : stop current iteration and continue with next.<BR>\n",
    "**else()**: Run block of code once when the condition is no longer true:"
   ]
  },
  {
   "cell_type": "code",
   "execution_count": null,
   "metadata": {},
   "outputs": [],
   "source": [
    "#syntax\n",
    "\n",
    "while condtion: \n",
    " # Code to be executed while the condition is True\n",
    " # The code may modify the condition to eventually make it False"
   ]
  },
  {
   "cell_type": "code",
   "execution_count": null,
   "metadata": {},
   "outputs": [],
   "source": [
    "#simple while loop example \n",
    "count = 0\n",
    "while count < 5:\n",
    "    print(\"Count:\", count)\n",
    "    count += 1  # Increment the count by 1 in each iteration\n",
    "\n",
    "print(\"Loop ended\")\n"
   ]
  },
  {
   "cell_type": "markdown",
   "metadata": {},
   "source": [
    "### 1.1 break() statement"
   ]
  },
  {
   "cell_type": "code",
   "execution_count": null,
   "metadata": {},
   "outputs": [],
   "source": [
    "#stop loop even if while condition is true \n",
    "\n",
    "Count = 0\n",
    "\n",
    "while Count <= 5:\n",
    "    print(Count)\n",
    "    if Count == 3:\n",
    "        break\n",
    "    Count += 1 \n",
    "    \n",
    "# loop is terminated at Count == 3"
   ]
  },
  {
   "cell_type": "markdown",
   "metadata": {},
   "source": [
    "### 1.2 continue() statement"
   ]
  },
  {
   "cell_type": "code",
   "execution_count": null,
   "metadata": {},
   "outputs": [],
   "source": [
    "# stops current iteration and continue with next\n",
    "\n",
    "i = 0\n",
    "while i < 6:\n",
    "  i += 1\n",
    "  if i == 3:\n",
    "    continue #ignore i == 3\n",
    "  print(i)"
   ]
  },
  {
   "cell_type": "markdown",
   "metadata": {},
   "source": [
    "### 1.3 else() statement"
   ]
  },
  {
   "cell_type": "code",
   "execution_count": null,
   "metadata": {},
   "outputs": [],
   "source": [
    "#Run block of code once when the condition is no longer true\n",
    "i = 1\n",
    "while i < 6:\n",
    "  print(i)\n",
    "  i += 1\n",
    "else:\n",
    "  print(\"i is no longer less than 6\")"
   ]
  },
  {
   "cell_type": "markdown",
   "metadata": {},
   "source": [
    "# 2. For loops\n",
    "- Used for iterating over sequence (list, a tuple, a dictionary, a set, or a string).<br>\n",
    "- execute a set of statements, once for each item in a sequence\n",
    "- better alternative of while (no need to increment )\n",
    "- For statements cannot be empty so we use pass to avoid errors\n",
    "\n",
    "\n",
    "We can use different statements to control `For` loop like: \n",
    "\n",
    "- range() \n",
    "- break() \n",
    "- continue()\n",
    "- else()\n",
    "\n",
    "**range():** used to loop through a set of code a specified number of times <br>\n",
    "**break():** stops the loop even if condition is true <br>\n",
    "**continue():** Stops current iteration and continue to next <br>\n",
    "\n",
    "**else():** execute a block of code when loop is terminated or finished\n",
    "\n",
    "`else doesnot execute if loop is stopped by a break statement`\n",
    "\n"
   ]
  },
  {
   "cell_type": "code",
   "execution_count": null,
   "metadata": {},
   "outputs": [],
   "source": [
    "\n",
    "# Syntax\n",
    "for variable in sequence:\n",
    "    pass   #do nothing\n",
    "    # Code block to execute\n"
   ]
  },
  {
   "cell_type": "markdown",
   "metadata": {},
   "source": []
  },
  {
   "cell_type": "markdown",
   "metadata": {},
   "source": [
    "### 2.1 range()\n",
    "\n",
    "range takes values as range(start, stop, steps)"
   ]
  },
  {
   "cell_type": "code",
   "execution_count": null,
   "metadata": {},
   "outputs": [],
   "source": [
    "for count in range(2, 10, 2):\n",
    "    print(count)"
   ]
  },
  {
   "cell_type": "markdown",
   "metadata": {},
   "source": [
    "### 2.2 break()"
   ]
  },
  {
   "cell_type": "code",
   "execution_count": null,
   "metadata": {},
   "outputs": [],
   "source": [
    "#stops the loop even if condition is true\n",
    "for count in range(1, 10):\n",
    "    if count == 7:\n",
    "        break\n",
    "    print(count)\n",
    "    # exists loop after count becomes 7"
   ]
  },
  {
   "cell_type": "markdown",
   "metadata": {},
   "source": [
    "### 2.3 continue()"
   ]
  },
  {
   "cell_type": "code",
   "execution_count": null,
   "metadata": {},
   "outputs": [],
   "source": [
    "# Stops current iteration and continue to next\n",
    "\n",
    "for count in range(1, 10):\n",
    "    if count == 7:\n",
    "        continue\n",
    "    print(count)\n",
    "    # print numbers from 1-9 except 7"
   ]
  },
  {
   "cell_type": "markdown",
   "metadata": {},
   "source": [
    "### 2.4 else()"
   ]
  },
  {
   "cell_type": "code",
   "execution_count": null,
   "metadata": {},
   "outputs": [],
   "source": [
    "for x in range(6):\n",
    "  print(x)\n",
    "else:\n",
    "  print(\"Finally finished!\")"
   ]
  },
  {
   "cell_type": "markdown",
   "metadata": {},
   "source": [
    "# 3. Nested For loop \n",
    "A nested loop is a loop inside a loop.\n",
    "\n",
    "The \"inner loop\" will be executed one time for each iteration of the \"outer loop\":"
   ]
  },
  {
   "cell_type": "code",
   "execution_count": null,
   "metadata": {},
   "outputs": [],
   "source": [
    "#print each adjective for every fruit\n",
    "adj = [\"red\", \"big\", \"tasty\"]\n",
    "fruits = [\"apple\", \"banana\", \"cherry\"]\n",
    "\n",
    "for x in adj:\n",
    "  for y in fruits:\n",
    "    print(x, y)"
   ]
  },
  {
   "cell_type": "markdown",
   "metadata": {},
   "source": [
    "# 4. Pass statement \n",
    "For statements cannot be empty so we use pass to avoid errors"
   ]
  },
  {
   "cell_type": "code",
   "execution_count": 30,
   "metadata": {},
   "outputs": [],
   "source": [
    "for x in [0, 1, 2]:\n",
    "  pass #do nothing  or specify for later use\n",
    "  \n",
    "  \n"
   ]
  }
 ],
 "metadata": {
  "kernelspec": {
   "display_name": "Python 3",
   "language": "python",
   "name": "python3"
  },
  "language_info": {
   "codemirror_mode": {
    "name": "ipython",
    "version": 3
   },
   "file_extension": ".py",
   "mimetype": "text/x-python",
   "name": "python",
   "nbconvert_exporter": "python",
   "pygments_lexer": "ipython3",
   "version": "3.11.5"
  }
 },
 "nbformat": 4,
 "nbformat_minor": 2
}
