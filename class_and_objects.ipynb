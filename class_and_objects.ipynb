{
 "cells": [
  {
   "cell_type": "markdown",
   "metadata": {},
   "source": [
    "# Python classes and objects \n",
    "\n",
    "- python is an object oriented porgramming language\n",
    "- Almost everything in python is an object, with its properties and methods. \n",
    "- class is a blueprint for creating objects \n",
    "- better approach is to use PascalCase naming conventions\n",
    "- Classes define the structure and behavior of objects.\n",
    "- They help organize and encapsulate data and functions.\n",
    "- Example: Creating a class \"Car\" to represent cars."
   ]
  },
  {
   "cell_type": "markdown",
   "metadata": {},
   "source": [
    "## 1. Creating a class \n",
    "\n",
    "Use the keyword    `class ` to create a class\n"
   ]
  },
  {
   "cell_type": "code",
   "execution_count": null,
   "metadata": {},
   "outputs": [],
   "source": [
    "class MyClass: \n",
    "    x = 5"
   ]
  },
  {
   "cell_type": "markdown",
   "metadata": {},
   "source": [
    "## 2. Creating objects\n",
    "We can use class name to create new objects \n"
   ]
  },
  {
   "cell_type": "code",
   "execution_count": null,
   "metadata": {},
   "outputs": [],
   "source": [
    "p1 = MyClass()\n",
    "print(p1.x)"
   ]
  },
  {
   "cell_type": "markdown",
   "metadata": {},
   "source": [
    "## 3. `__init()__` function\n",
    "\n",
    "- All classes have a function called `__init__()`, which is always executed when the class is being initiated.\n",
    "- `__init__` is a special method used for initializing object attributes in Python classes.\n",
    "- It is automatically called when an object is created from a class.\n",
    "- It takes the self parameter, which refers to the instance being created, and any other parameters you want to initialize the object.\n",
    "- Inside `__init__` you set the initial values for object attributes."
   ]
  },
  {
   "cell_type": "code",
   "execution_count": null,
   "metadata": {},
   "outputs": [],
   "source": [
    "class Person:\n",
    "    def __init__(self, name, age):\n",
    "        self.name = name \n",
    "        self.age = age \n",
    "\n",
    "# Creating objects and initializing attributes\n",
    "person1 = Person(\"Harry\", 30)\n",
    "person2 = Person(\"Ram\", 23)\n",
    "\n",
    "#Accessing attributes \n",
    "print(person1.name + \" is\" , person1.age ,\"years old\")\n",
    "print(f\"{person2.name} is {person2.age} years old.\")"
   ]
  },
  {
   "cell_type": "markdown",
   "metadata": {},
   "source": [
    "## 4.  The `__str__()` function\n",
    "-  The `__str__()` function is a special function in Python classes.\n",
    "-  If  `__str__()` function is not set the string representation of object is returned.\n",
    "- It should be defined within a class to return a string representation of an object.\n",
    "- When you use str(object) or print(object), Python calls the object's __str__ method to get its string representation.\n",
    "It's used for making objects more human-readable"
   ]
  },
  {
   "cell_type": "code",
   "execution_count": null,
   "metadata": {},
   "outputs": [],
   "source": [
    "class Person:\n",
    "    def __init__(self, name, age):\n",
    "        self.name = name\n",
    "        self.age = age\n",
    "\n",
    "    def __str__(self):\n",
    "        return f\"Name: {self.name}, Age: {self.age}\" # return a formatted string\n",
    "\n",
    "person = Person(\"Alice\", 30)\n",
    "print(person)  \n"
   ]
  },
  {
   "cell_type": "markdown",
   "metadata": {},
   "source": [
    "## Functions vs methods \n",
    "- Functions are standalone, while methods are associated with classes or objects.\n",
    "- Methods often manipulate the internal state of objects, whereas functions generally do not.\n",
    "- Methods are called on objects, while functions are called independently."
   ]
  },
  {
   "cell_type": "markdown",
   "metadata": {},
   "source": [
    "## 5. object Methods \n",
    "- Objects can also contain methods. Methods in objects are functions that belong to the object.\n",
    "- Let us create a method in the Person class that prints a greeting and execute it on the p1 object.\n"
   ]
  },
  {
   "cell_type": "code",
   "execution_count": null,
   "metadata": {},
   "outputs": [],
   "source": [
    "class Person:\n",
    "    def __init__(self, name, age):\n",
    "        self.name = name \n",
    "        self.age = age\n",
    "        \n",
    "    def myfunc(self):\n",
    "        print(f\"Good morning! {self.name}\")\n",
    "        \n",
    "p1 = Person(\"suman\", 23) #creates and initialize p1 as object of class Person\n",
    "p1.myfunc()"
   ]
  },
  {
   "cell_type": "markdown",
   "metadata": {},
   "source": [
    "### 5.1 Change object properties "
   ]
  },
  {
   "cell_type": "code",
   "execution_count": 25,
   "metadata": {},
   "outputs": [],
   "source": [
    "p1.age = 20 #modify the age to 20 \n",
    "del p1.age #delete age property from p1 object\n",
    "del p1 # delete p1 object "
   ]
  },
  {
   "cell_type": "markdown",
   "metadata": {},
   "source": [
    "## 6. The self Paramater \n",
    "- It is used to reference the current instance of class \n",
    "- It is used to access the variables that belong to the class\n",
    "- It does not have to be named self , you can call it whatever you like, but it has to be the first parameter of any function in the class:\n",
    "\n"
   ]
  },
  {
   "cell_type": "code",
   "execution_count": null,
   "metadata": {},
   "outputs": [],
   "source": [
    "class Person:\n",
    "  def __init__(mysillyobject, name, age):\n",
    "    mysillyobject.name = name\n",
    "    mysillyobject.age = age\n",
    "\n",
    "  def myfunc(abc):\n",
    "    print(\"Hello my name is \" + abc.name)\n",
    "\n",
    "p1 = Person(\"John\", 36)\n",
    "p1.myfunc()"
   ]
  },
  {
   "cell_type": "markdown",
   "metadata": {},
   "source": [
    "## 7. The pass Statement\n",
    "- class defination cannot be empty , so for class with no content we use `pass`"
   ]
  },
  {
   "cell_type": "code",
   "execution_count": null,
   "metadata": {},
   "outputs": [],
   "source": [
    "class Person:\n",
    "    pass"
   ]
  }
 ],
 "metadata": {
  "kernelspec": {
   "display_name": "Python 3",
   "language": "python",
   "name": "python3"
  },
  "language_info": {
   "codemirror_mode": {
    "name": "ipython",
    "version": 3
   },
   "file_extension": ".py",
   "mimetype": "text/x-python",
   "name": "python",
   "nbconvert_exporter": "python",
   "pygments_lexer": "ipython3",
   "version": "3.11.5"
  }
 },
 "nbformat": 4,
 "nbformat_minor": 2
}
