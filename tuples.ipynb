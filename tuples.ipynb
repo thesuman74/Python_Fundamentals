{
 "cells": [
  {
   "cell_type": "markdown",
   "metadata": {},
   "source": [
    "#### Python Collections (Arrays)\n",
    "There are four collection data types in the Python programming language:\n",
    "\n",
    "- **List []** is a collection which is ordered and changeable. Allows duplicate members.\n",
    "- **Tuple ()** is a collection which is ordered and unchangeable. Allows duplicate members.\n",
    "- **Set {}** is a collection which is unordered, unchangeable*, and unindexed. No duplicate members.\n",
    "- **Dictionary{key:value}** is a collection which is ordered** and changeable. No duplicate members."
   ]
  },
  {
   "cell_type": "markdown",
   "metadata": {},
   "source": [
    "# Tuples\n",
    "- Tuples are used to store multiple items in a single variable.\n",
    "- Tuple items are ordered, unchangeable, and allow duplicate values.\n",
    "\n",
    "\n",
    "- Tuples are written with round brackets.\n",
    "\n"
   ]
  },
  {
   "cell_type": "markdown",
   "metadata": {},
   "source": [
    "## 1. Creating a tuple \n",
    "we can create tuples by writing it inside round brackets and by using tuple() constructor"
   ]
  },
  {
   "cell_type": "code",
   "execution_count": null,
   "metadata": {},
   "outputs": [],
   "source": [
    "#while creating tuple with single elemetn \n",
    "thistuple = (\"apple\",)\n",
    "\n",
    "#tuples with different datatypes\n",
    "tuple1 = (\"abc\", 34, True, 40, \"male\")"
   ]
  },
  {
   "cell_type": "markdown",
   "metadata": {},
   "source": [
    "## 2. Access Tuples items \n",
    "You can access tuple items by referring to the index number, inside square brackets: similar to lists\n",
    "\n"
   ]
  },
  {
   "cell_type": "code",
   "execution_count": null,
   "metadata": {},
   "outputs": [],
   "source": [
    "fruits = ('apple', 'banana', 'cherry', 'date', 'fig', 'grape')\n",
    "# Basic slicing\n",
    "print(fruits[1:4])  # ['banana', 'cherry', 'date']\n",
    "\n",
    "# Negative indices\n",
    "print(fruits[-3:])  # ['date', 'fig', 'grape']\n",
    "\n",
    "# Slicing with step\n",
    "print(fruits[1:6:2])  # ['banana', 'date', 'fig']"
   ]
  },
  {
   "cell_type": "markdown",
   "metadata": {},
   "source": [
    "## 3. Change Tuple items \n",
    "\n",
    "AS tuples are unchangeable or immutable , once created it cannot be changed . \n",
    "\n",
    "But there is a workaround. you can convert the tuple into a list, change the list, and convert the list back to the tuple"
   ]
  },
  {
   "cell_type": "code",
   "execution_count": null,
   "metadata": {},
   "outputs": [],
   "source": [
    "x = (\"apple\", \"banana\", \"cherry\")\n",
    "y = list(x)\n",
    "y[1] = \"kiwi\"\n",
    "x = tuple(y)\n",
    "\n",
    "print(x)"
   ]
  },
  {
   "cell_type": "markdown",
   "metadata": {},
   "source": [
    "### 3.1 Add items\n",
    "As tuples are immutable it doesnot have append() method , but there are other ways \n",
    "\n",
    "1. convert into a list \n",
    "2. Add tuple to a tuple "
   ]
  },
  {
   "cell_type": "code",
   "execution_count": null,
   "metadata": {},
   "outputs": [],
   "source": [
    "# 1. Adding by converting into a list \n",
    "thistuple = (\"apple\", \"banana\", \"cherry\")\n",
    "y = list(thistuple)\n",
    "y.append(\"orange\")\n",
    "thistuple = tuple(y)\n",
    "print(thistuple)\n"
   ]
  },
  {
   "cell_type": "code",
   "execution_count": null,
   "metadata": {},
   "outputs": [],
   "source": [
    "# adding tuples with tuples \n",
    "tuple1 = (\"apple\", \"banana\", \"cherry\")\n",
    "tuple2 = (\"orange\",)\n",
    "\n",
    "print(tuple1 + tuple2)"
   ]
  },
  {
   "cell_type": "markdown",
   "metadata": {},
   "source": [
    "### 3.2 Removing items from tuple\n",
    "WE cannot remove items in a tuple directly but we can do that by converting it into list and then back to tuple \n",
    "\n",
    "or we can delete the comple tuple using `del` keyword"
   ]
  },
  {
   "cell_type": "code",
   "execution_count": null,
   "metadata": {},
   "outputs": [],
   "source": [
    "# Removing items by converting into tuples\n",
    "thistuple = (\"apple\", \"banana\", \"cherry\")\n",
    "y = list(thistuple)\n",
    "y.remove(\"apple\")\n",
    "thistuple = tuple(y)\n",
    "print(thistuple)"
   ]
  },
  {
   "cell_type": "code",
   "execution_count": null,
   "metadata": {},
   "outputs": [],
   "source": [
    "# deleting the tuple \n",
    "thistuple = (\"apple\", \"banana\", \"cherry\")\n",
    "del thistuple\n",
    "print(thistuple) #this will raise an error because the tuple no longer exists"
   ]
  },
  {
   "cell_type": "markdown",
   "metadata": {},
   "source": [
    "### 3.3 Unpacking tuples \n",
    "Packing - Assign value <br>\n",
    "Unpacking - extracting the assigned value "
   ]
  },
  {
   "cell_type": "code",
   "execution_count": null,
   "metadata": {},
   "outputs": [],
   "source": [
    "fruits = (\"apple\", \"banana\", \"cherry\") #packing\n",
    "(green, yellow, red) = fruits #unpacking\n",
    "print(green)\n"
   ]
  },
  {
   "cell_type": "markdown",
   "metadata": {},
   "source": [
    "#### 3.3.1 Usinf astrick *\n",
    "take care of all the unassigned values and return them in a list "
   ]
  },
  {
   "cell_type": "code",
   "execution_count": null,
   "metadata": {},
   "outputs": [],
   "source": [
    "fruits = (\"apple\", \"mango\", \"papaya\", \"pineapple\", \"cherry\")\n",
    "\n",
    "(green, *tropic, red) = fruits\n",
    "\n",
    "print(green)\n",
    "print(tropic)\n",
    "print(red)"
   ]
  },
  {
   "cell_type": "markdown",
   "metadata": {},
   "source": [
    "## 4. Looping in Tuples\n",
    "\n",
    "There are different ways of using loops in list : \n",
    "- For() loop \n",
    "- For with range() and len()\n",
    "- while() loop"
   ]
  },
  {
   "cell_type": "markdown",
   "metadata": {},
   "source": [
    "looping using for loop \n"
   ]
  },
  {
   "cell_type": "code",
   "execution_count": null,
   "metadata": {},
   "outputs": [],
   "source": [
    "thistuple = (\"apple\", \"banana\", \"cherry\")\n",
    "\n",
    "for items in thistuple: \n",
    "    print(items)"
   ]
  },
  {
   "cell_type": "markdown",
   "metadata": {},
   "source": [
    "Looping with range() and len()"
   ]
  },
  {
   "cell_type": "code",
   "execution_count": null,
   "metadata": {},
   "outputs": [],
   "source": [
    "thistuple = (\"apple\", \"banana\", \"cherry\")\n",
    "\n",
    "for items in range(len(thistuple)):\n",
    "    print(thistuple[items])"
   ]
  },
  {
   "cell_type": "markdown",
   "metadata": {},
   "source": [
    "Looping with while()"
   ]
  },
  {
   "cell_type": "code",
   "execution_count": null,
   "metadata": {},
   "outputs": [],
   "source": [
    "thistuple = (\"apple\", \"banana\", \"cherry\")\n",
    "i = 0\n",
    "while i< len(thistuple):\n",
    "    print(thistuple[i])\n",
    "    i += 1"
   ]
  },
  {
   "cell_type": "markdown",
   "metadata": {},
   "source": [
    "## Joining two tuples "
   ]
  },
  {
   "cell_type": "code",
   "execution_count": null,
   "metadata": {},
   "outputs": [],
   "source": [
    "tuple1 = (\"a\", \"b\" , \"c\")\n",
    "tuple2 = (1, 2, 3)\n",
    "\n",
    "tuple3 = tuple1 + tuple2\n",
    "print(tuple3)"
   ]
  },
  {
   "cell_type": "markdown",
   "metadata": {},
   "source": [
    "## Multiplying tuples "
   ]
  },
  {
   "cell_type": "code",
   "execution_count": null,
   "metadata": {},
   "outputs": [],
   "source": [
    "fruits = (\"apple\", \"banana\", \"cherry\")\n",
    "mytuple = fruits * 2\n",
    "\n",
    "print(mytuple)"
   ]
  },
  {
   "cell_type": "markdown",
   "metadata": {},
   "source": [
    "## Tuple methods \n",
    "\n",
    "python tuples has two built-in methods\n",
    "- count() - returns the number of times a value occurs in tuple \n",
    "\n",
    "- index() - returns the position for specified value"
   ]
  }
 ],
 "metadata": {
  "kernelspec": {
   "display_name": "Python 3",
   "language": "python",
   "name": "python3"
  },
  "language_info": {
   "codemirror_mode": {
    "name": "ipython",
    "version": 3
   },
   "file_extension": ".py",
   "mimetype": "text/x-python",
   "name": "python",
   "nbconvert_exporter": "python",
   "pygments_lexer": "ipython3",
   "version": "3.11.5"
  }
 },
 "nbformat": 4,
 "nbformat_minor": 2
}
