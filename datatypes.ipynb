{
 "cells": [
  {
   "cell_type": "markdown",
   "metadata": {},
   "source": [
    "### basic data types  \n",
    "- integers (int) \n",
    "- float(float) \n",
    "- Strings (str)\n",
    "- booleans (bool) ==> True | False \n",
    "- None (NoneType)"
   ]
  },
  {
   "cell_type": "markdown",
   "metadata": {},
   "source": [
    "### Python built in data types \n",
    "- Text types : Strings \n",
    "- Numeric Types : Int, float, complex\n",
    "- Sequence Types : list, tuple, range \n",
    "- Mapping Types : dict \n",
    "- Set Types : set, forzenset\n",
    "- Boolean Types : bool \n",
    "- Binary Types : bytes, bytearray, memoryview \n",
    "- NoneType : NoneType"
   ]
  },
  {
   "cell_type": "markdown",
   "metadata": {},
   "source": [
    "### Setting data types "
   ]
  },
  {
   "cell_type": "markdown",
   "metadata": {},
   "source": [
    "### Identifying the data type\n"
   ]
  },
  {
   "cell_type": "markdown",
   "metadata": {},
   "source": [
    "| Variable Declaration             | Data Type        |\n",
    "|---------------------------------|------------------|\n",
    "| x = \"Hello World\"               | str              |\n",
    "| x = 20                          | int              |\n",
    "| x = 20.5                        | float            |\n",
    "| x = 1j                          | complex          |\n",
    "| x = [\"apple\", \"banana\", \"cherry\"] | list            |\n",
    "| x = (\"apple\", \"banana\", \"cherry\") | tuple          |\n",
    "| x = range(6)                    | range            |\n",
    "| x = {\"name\" : \"John\", \"age\" : 36} | dict            |\n",
    "| x = {\"apple\", \"banana\", \"cherry\"} | set            |\n",
    "| x = frozenset({\"apple\", \"banana\", \"cherry\"}) | frozenset |\n",
    "| x = True                        | bool             |\n",
    "| x = b\"Hello\"                    | bytes            |\n",
    "| x = bytearray(5)                | bytearray        |\n",
    "| x = memoryview(bytes(5))        | memoryview       |\n",
    "| x = None                        | NoneType         |\n"
   ]
  },
  {
   "cell_type": "markdown",
   "metadata": {},
   "source": [
    "- forzen set = Immutable , unique elements like sets , hashable (hash tables), unordered \n",
    "- Creates a new set without modifying set1 or set2"
   ]
  },
  {
   "cell_type": "markdown",
   "metadata": {},
   "source": [
    "- bool(5): converts a value into boolean (True | False) , any non- zero number is considerd as true "
   ]
  },
  {
   "cell_type": "code",
   "execution_count": null,
   "metadata": {},
   "outputs": [],
   "source": [
    "x = 7 \n",
    "print(type(x))"
   ]
  },
  {
   "cell_type": "markdown",
   "metadata": {},
   "source": [
    "### Casting : Changing the type of x"
   ]
  },
  {
   "cell_type": "code",
   "execution_count": null,
   "metadata": {},
   "outputs": [],
   "source": [
    "x = str(7)\n",
    "print(type(x))"
   ]
  },
  {
   "cell_type": "markdown",
   "metadata": {},
   "source": [
    "## 3. Strings \n",
    "strings in Python are arrays of bytes representing unicode characters.Square brackets can be used to access elements of the string.\n",
    "\n"
   ]
  },
  {
   "cell_type": "code",
   "execution_count": null,
   "metadata": {},
   "outputs": [],
   "source": [
    "a = \"hello\"\n",
    "print(a[1])"
   ]
  },
  {
   "cell_type": "markdown",
   "metadata": {},
   "source": [
    "Looping through strings \n",
    "\n",
    "we can use for loop to loop through strings "
   ]
  },
  {
   "cell_type": "code",
   "execution_count": null,
   "metadata": {},
   "outputs": [],
   "source": [
    "for x in a:\n",
    "    print(x)"
   ]
  },
  {
   "cell_type": "markdown",
   "metadata": {},
   "source": [
    "#### 3.1 Check string presence using in and not\n"
   ]
  },
  {
   "cell_type": "code",
   "execution_count": null,
   "metadata": {},
   "outputs": [],
   "source": [
    "txt = \"The best things in life are free!\"\n",
    "if \"free\" in txt:\n",
    "    print(\"Free is present\")\n",
    "else:\n",
    "    print(\"free is not present\")\n",
    "    \n",
    "#also it can do done as \n",
    "print(\"expensive\" in txt)\n",
    "print(\"expensive\" not in txt)"
   ]
  },
  {
   "cell_type": "markdown",
   "metadata": {},
   "source": [
    "#### 3.2 Slicing in string\n",
    "  (text[start:end:step]) , here we pass index of string which starts with  0\n"
   ]
  },
  {
   "cell_type": "code",
   "execution_count": null,
   "metadata": {},
   "outputs": [],
   "source": [
    "b = \"Hello, World!\"\n",
    "print(b[0:5]) # slicing from first to 5th character  (excluding index 5)\n",
    "print(b[0:]) # slicing from first to end\n",
    "print(b[-5:-1]) # slicing from first to end\n",
    "print(b[::-1]) # from last to first with step 1 \n",
    "print(b[:1:-1]) # from last to index 1 with step 1 \n"
   ]
  },
  {
   "cell_type": "markdown",
   "metadata": {},
   "source": [
    "#### 3.3 Modifying strings \n",
    "Python has a set of built-in methods that you can use on strings."
   ]
  },
  {
   "cell_type": "code",
   "execution_count": null,
   "metadata": {},
   "outputs": [],
   "source": [
    "txt = \" The best things in life, are free!  \"\n",
    "print(txt.upper()) # converts to upper case \n",
    "print(txt.lower()) # converts to lower\n",
    "print (txt.strip()) #removes white spaces before/after quotation mark\n",
    "print(txt.replace(\"t\", \"a\")) # replace t with a \n",
    "print(txt.split(\",\")) # returns seperate elements after seperating with ,\n"
   ]
  },
  {
   "cell_type": "markdown",
   "metadata": {},
   "source": [
    "#### 3.4 Combining string with formats\n",
    "We cannot combine strings and number together with + so we use formats "
   ]
  },
  {
   "cell_type": "code",
   "execution_count": 46,
   "metadata": {},
   "outputs": [
    {
     "name": "stdout",
     "output_type": "stream",
     "text": [
      "My name is John, and I am 36\n",
      "i am 36 years old \n"
     ]
    }
   ],
   "source": [
    "age = 36\n",
    "info = \"My name is John, and I am {}\"\n",
    "print(info.format(age)) #old way\n",
    "print(f\"i am {age} years old \") #new way"
   ]
  },
  {
   "cell_type": "markdown",
   "metadata": {},
   "source": [
    "#### 3.5 Escape characters"
   ]
  },
  {
   "cell_type": "code",
   "execution_count": 51,
   "metadata": {},
   "outputs": [
    {
     "name": "stdout",
     "output_type": "stream",
     "text": [
      "We are \f the so-called \"Vikings\" from the north.\n"
     ]
    }
   ],
   "source": [
    "# txt = \"We are the so-called \"Vikings\" from the north.\" # this is invalid \n",
    "txt = \"We are the so-called \\\"Vikings\\\" from the north.\"\n",
    "print(txt)"
   ]
  }
 ],
 "metadata": {
  "kernelspec": {
   "display_name": "Python 3",
   "language": "python",
   "name": "python3"
  },
  "language_info": {
   "codemirror_mode": {
    "name": "ipython",
    "version": 3
   },
   "file_extension": ".py",
   "mimetype": "text/x-python",
   "name": "python",
   "nbconvert_exporter": "python",
   "pygments_lexer": "ipython3",
   "version": "3.11.5"
  }
 },
 "nbformat": 4,
 "nbformat_minor": 2
}
