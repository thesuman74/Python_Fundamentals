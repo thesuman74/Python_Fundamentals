{
 "cells": [
  {
   "cell_type": "markdown",
   "metadata": {},
   "source": [
    "# Python Inheritance\n",
    "- Key concept in object-oriented programming \n",
    "- Allows to inherit attributes and methods from another class \n",
    "\n",
    "\n",
    "- **Parent class:** is the class being inherited from, also called base class.\n",
    "\n",
    "- **Child class:** is the class that inherits from another class, also called derived class."
   ]
  },
  {
   "cell_type": "markdown",
   "metadata": {},
   "source": [
    "## 1. Creating a parent class \n",
    "Any class can be a parent class, so the syntax is the same as creating any other class"
   ]
  },
  {
   "cell_type": "code",
   "execution_count": null,
   "metadata": {},
   "outputs": [],
   "source": [
    "class Person:\n",
    "    def __init__(self, firstname, lastname):\n",
    "        self.firstname = firstname\n",
    "        self.lastname = lastname\n",
    "    \n",
    "    def printname(self):\n",
    "        print(f\"hello {self.firstname} {self.lastname}\")\n",
    "        \n",
    "        \n",
    "x = Person(\"suman\",\"adhikari\")\n",
    "x.printname()"
   ]
  },
  {
   "cell_type": "markdown",
   "metadata": {},
   "source": [
    "## 2. Creating a child class \n",
    "To create a child class , send the parent class as a parameter \n"
   ]
  },
  {
   "cell_type": "code",
   "execution_count": null,
   "metadata": {},
   "outputs": [],
   "source": [
    "      \n",
    "#child class\n",
    "class Student(Person):\n",
    "    pass\n",
    "\n",
    "p1 = Student(\"Mike\", \"Tyson\") \n",
    "p1.printname()"
   ]
  },
  {
   "cell_type": "markdown",
   "metadata": {},
   "source": [
    "## 3. Add the `__init__()` function \n",
    "- When you add the `__init__()` function , the child class will no longer inherit the parent's `__init__()` function .\n",
    "- The child's `__init__()` function  overrides the inheritance of the parent's `__init__()` function .\n",
    "- To keep the inheritance of the parent's `__init__()` function , add a call to the parent's `__init__()` function :"
   ]
  },
  {
   "cell_type": "code",
   "execution_count": null,
   "metadata": {},
   "outputs": [],
   "source": [
    "class Student(Person):\n",
    "  def __init__(self, firstname, lastname):\n",
    "    Person.__init__(self, firstname, lastname)"
   ]
  },
  {
   "cell_type": "markdown",
   "metadata": {},
   "source": [
    "Here ,To ensure that the child class retains the inheritance of the parent's `__init__()` function , we  call the parent's `__init__()` function  explicitly within the child class's `__init__()` function. This process is known as method overriding."
   ]
  },
  {
   "cell_type": "markdown",
   "metadata": {},
   "source": [
    "## 4. super() function\n",
    "Python also has a super() function that will make the child class inherit all the methods and properties from its parent:"
   ]
  },
  {
   "cell_type": "code",
   "execution_count": 3,
   "metadata": {},
   "outputs": [],
   "source": [
    "class Student(Person):\n",
    "  def __init__(self, firstname, lastname):\n",
    "    super().__init__(firstname, lastname) #no need to use parent name"
   ]
  },
  {
   "cell_type": "markdown",
   "metadata": {},
   "source": [
    "## 5. Adding property  and Methods\n",
    "Adding a property called graducationyear to the Student class:\n",
    "\n",
    "here graduationyear is a property and graduationinfo() is a method"
   ]
  },
  {
   "cell_type": "code",
   "execution_count": 13,
   "metadata": {},
   "outputs": [
    {
     "name": "stdout",
     "output_type": "stream",
     "text": [
      "Mike Olsen will be graduated on 2019\n"
     ]
    }
   ],
   "source": [
    "class Student(Person):\n",
    "  def __init__(self, firstname, lastname, year):\n",
    "    super().__init__(firstname, lastname)\n",
    "    self.graduationyear = year\n",
    "  \n",
    "  \n",
    "  def graduationinfo(self):\n",
    "      print(f\"{self.firstname} {self.lastname} will be graduated on {self.graduationyear}\")\n",
    "      \n",
    "      \n",
    "x = Student(\"Mike\", \"Olsen\", 2019)\n",
    "x.graduationinfo()"
   ]
  }
 ],
 "metadata": {
  "kernelspec": {
   "display_name": "Python 3",
   "language": "python",
   "name": "python3"
  },
  "language_info": {
   "codemirror_mode": {
    "name": "ipython",
    "version": 3
   },
   "file_extension": ".py",
   "mimetype": "text/x-python",
   "name": "python",
   "nbconvert_exporter": "python",
   "pygments_lexer": "ipython3",
   "version": "3.11.5"
  }
 },
 "nbformat": 4,
 "nbformat_minor": 2
}
