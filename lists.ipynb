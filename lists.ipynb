{
 "cells": [
  {
   "cell_type": "markdown",
   "metadata": {},
   "source": [
    "#### Python Collections (Arrays)\n",
    "There are four collection data types in the Python programming language:\n",
    "\n",
    "- **List []** is a collection which is ordered and changeable. Allows duplicate members.\n",
    "- **Tuple ()** is a collection which is ordered and unchangeable. Allows duplicate members.\n",
    "- **Set {}** is a collection which is unordered, unchangeable*, and unindexed. No duplicate members.\n",
    "- **Dictionary{key:value}** is a collection which is ordered** and changeable. No duplicate members."
   ]
  },
  {
   "cell_type": "markdown",
   "metadata": {},
   "source": [
    "# Python Lists\n",
    "- Lists are used to store multiple items in a single variable.\n",
    "\n",
    "- Lists are one of 4 built-in data types in Python used to store collections of data, the other 3 are Tuple, Set, and Dictionary, all with different qualities and usage.\n",
    "\n",
    "- Lists are created using square brackets:\n",
    "- List items are ordered, changeable, and allow duplicate values."
   ]
  },
  {
   "cell_type": "markdown",
   "metadata": {},
   "source": [
    "## 1. creating a list \n"
   ]
  },
  {
   "cell_type": "code",
   "execution_count": null,
   "metadata": {},
   "outputs": [],
   "source": [
    "thislist = [\"apple\", \"banana\", \"cherry\"]\n",
    "print(thislist)"
   ]
  },
  {
   "cell_type": "markdown",
   "metadata": {},
   "source": [
    "##### Can Store different data types "
   ]
  },
  {
   "cell_type": "code",
   "execution_count": null,
   "metadata": {},
   "outputs": [],
   "source": [
    "list1 = [\"apple\", \"banana\", \"cherry\"]\n",
    "list2 = [1, 5, 7, 9, 3]\n",
    "list3 = [True, False, False]\n",
    "list4 = [\"abc\", 34, True, 40, \"male\"]"
   ]
  },
  {
   "cell_type": "markdown",
   "metadata": {},
   "source": [
    "##### The list() Constructor\n",
    "It is also possible to use the list() constructor when creating a new list. we can use list() to convert Iterables type to list\n",
    "\n",
    "` ### what are iterables ? `\n",
    "\n",
    "Iterables in Python are objects that can be looped or iterated over, meaning you can traverse through their elements one at a time\n",
    "For eg , \n",
    "- Strings\n",
    "- lists \n",
    "- tuples \n",
    "- sets \n",
    "- Dictonaries \n",
    "\n",
    "`integer is not iterable` single word integer cannot be converted into list but multiple character integer can be converted into list for eg(singl= 5,multiple = 500)"
   ]
  },
  {
   "cell_type": "code",
   "execution_count": null,
   "metadata": {},
   "outputs": [],
   "source": [
    "thislist = list((\"apple\", \"banana\", \"cherry\")) # note the double round-brackets\n",
    "print(thislist)\n",
    "\n",
    "x = \"s\"\n",
    "y = list(x)\n",
    "print(type(x))\n",
    "print(type(y))\n",
    "print(x)\n",
    "print(y)"
   ]
  },
  {
   "cell_type": "markdown",
   "metadata": {},
   "source": [
    "## 2. Access Items\n",
    "List items are indexed and you can access them by referring to the index number:"
   ]
  },
  {
   "cell_type": "code",
   "execution_count": null,
   "metadata": {},
   "outputs": [],
   "source": [
    "thislist = [\"apple\", \"banana\", \"cherry\"]\n",
    "print(thislist[1]) # element at index 1 \n",
    "print(thislist[-1]) # last element"
   ]
  },
  {
   "cell_type": "markdown",
   "metadata": {},
   "source": [
    "### Range of List - Slicing"
   ]
  },
  {
   "cell_type": "code",
   "execution_count": null,
   "metadata": {},
   "outputs": [],
   "source": [
    "fruits = ['apple', 'banana', 'cherry', 'date', 'fig', 'grape']\n",
    "\n",
    "# Basic slicing\n",
    "print(fruits[1:4])  # ['banana', 'cherry', 'date']\n",
    "\n",
    "# Negative indices\n",
    "print(fruits[-3:])  # ['date', 'fig', 'grape']\n",
    "\n",
    "# Slicing with step\n",
    "print(fruits[1:6:2])  # ['banana', 'date', 'fig']"
   ]
  },
  {
   "cell_type": "markdown",
   "metadata": {},
   "source": [
    "### Check if Item Exists\n",
    "To determine if a specified item is present in a list use the in keyword:"
   ]
  },
  {
   "cell_type": "code",
   "execution_count": null,
   "metadata": {},
   "outputs": [],
   "source": [
    "thislist = [\"apple\", \"banana\", \"cherry\"]\n",
    "if \"apple\" in thislist:\n",
    "  print(\"Yes, 'apple' is in the fruits list\")\n",
    "\n",
    "# OR\n",
    "print(\"apple\" in thislist) # returns True or False"
   ]
  },
  {
   "cell_type": "markdown",
   "metadata": {},
   "source": [
    "## 3. Change list items \n",
    "WE can change list items by different methods \n",
    "- Adding items into list \n",
    "    - Range or index \n",
    "    - insert()\n",
    "    - append()\n",
    "    - extend()\n",
    "    - zip()\n",
    "-  Removing items from list \n",
    "    - remove()\n",
    "    - pop()\n",
    "    - clear()\n"
   ]
  },
  {
   "cell_type": "markdown",
   "metadata": {},
   "source": [
    "#### 3.1 Adding items into list "
   ]
  },
  {
   "cell_type": "code",
   "execution_count": 2,
   "metadata": {},
   "outputs": [
    {
     "name": "stdout",
     "output_type": "stream",
     "text": [
      "['apple', 'blackcurrant', 'watermelon', 'watermelon', 'orange', 'kiwi', 'mango', 'orange', 'mango', 'pineapple', 'papaya']\n",
      "[(1, 'a'), (2, 'b'), (3, 'c')]\n"
     ]
    }
   ],
   "source": [
    "thislist = [\"apple\", \"banana\", \"cherry\", \"orange\", \"kiwi\", \"mango\"]\n",
    "thislist[1:3] = [\"blackcurrant\", \"watermelon\"]  # replace value at 1 and 3 index with new value\n",
    "thislist.insert(2, \"watermelon\") #insert without replacing \n",
    "thislist.append(\"orange\") # add value at the end of the list \n",
    "\n",
    "new_list = [\"mango\", \"pineapple\", \"papaya\"]\n",
    "thislist.extend(new_list) # new new list at the end of thislist \n",
    "# The extend() method does not have to append lists, you can add any iterable object (tuples, sets, dictionaries etc.).\n",
    "print(thislist)\n",
    "\n",
    "#with zip we can create pairs \n",
    "list1 = [1, 2, 3]\n",
    "list2 = ['a', 'b', 'c']\n",
    "\n",
    "zipped = list(zip(list1, list2))\n",
    "\n",
    "print(zipped)"
   ]
  },
  {
   "cell_type": "markdown",
   "metadata": {},
   "source": [
    "### 3.2 Removing items from list \n",
    "\n"
   ]
  },
  {
   "cell_type": "code",
   "execution_count": null,
   "metadata": {},
   "outputs": [],
   "source": [
    "my_list = [\"apple\", \"banana\", \"cherry\", \"banana\", \"kiwi\"]\n",
    "my_list.remove(\"banana\") # removes the first occurance of banana from list \n",
    "\n",
    "# #pop method \n",
    "# my_list.pop() # removes the last elements of the list \n",
    "# my_list.pop(1) # removes the specified index  elements of the list \n",
    "\n",
    "# #del method \n",
    "# del my_list[0]  # delete the element at specifed index\n",
    "# del my_list # delete the complete list \n",
    "\n",
    "#clear \n",
    "my_list.clear() # clears the contents of the list \n",
    "\n",
    "\n",
    "\n",
    "print(my_list)"
   ]
  },
  {
   "cell_type": "markdown",
   "metadata": {},
   "source": [
    "## 4. Looping in list\n",
    "\n",
    "There are different ways of using loops in list : \n",
    "- For() loop \n",
    "- For with range() and len()\n",
    "- while() loop\n",
    "- with list comprehension "
   ]
  },
  {
   "cell_type": "markdown",
   "metadata": {},
   "source": [
    "looping using for loop \n"
   ]
  },
  {
   "cell_type": "code",
   "execution_count": null,
   "metadata": {},
   "outputs": [],
   "source": [
    "thislist = [\"apple\", \"banana\", \"cherry\"]\n",
    "for x in thislist:\n",
    "  print(x)"
   ]
  },
  {
   "cell_type": "markdown",
   "metadata": {},
   "source": [
    "Looping using for with range() and len()"
   ]
  },
  {
   "cell_type": "code",
   "execution_count": null,
   "metadata": {},
   "outputs": [],
   "source": [
    "thislist = [\"apple\", \"banana\", \"cherry\"]\n",
    "for i in range(len(thislist)):\n",
    "    print(thislist[i])\n",
    "    \n",
    "# print(range(len(thislist)))\n"
   ]
  },
  {
   "cell_type": "markdown",
   "metadata": {},
   "source": [
    "Using while() loop"
   ]
  },
  {
   "cell_type": "code",
   "execution_count": null,
   "metadata": {},
   "outputs": [],
   "source": [
    "thislist = [\"apple\", \"banana\", \"cherry\"]\n",
    "i = 0 #must be initialize\n",
    "while i < len(thislist):\n",
    "  print(thislist[i])\n",
    "  i = i + 1"
   ]
  },
  {
   "cell_type": "markdown",
   "metadata": {},
   "source": [
    "### Looping using list comprehension. ,<br> \n",
    "- List comprehension offers a shorter syntax when you want to create a new list based on the values of an existing list.\n",
    "- Creates new list without using for loop \n",
    "\n",
    "`Syntax:`<br>\n",
    "newlist = [expression for item in iterable if condition == True]\n",
    "\n",
    "The return value is a new list, leaving the old list unchanged.\n",
    "\n",
    "**expression:** This is the expression that will be applied to each item from the iterable to generate the new value for the list.<br>\n",
    "**item:** This is a variable that represents each item in the iterable.<br>\n",
    "**iterable:** This is the original sequence or iterable you want to process.<br>\n",
    "**condition (optional):** This is an optional filtering condition. If specified, only items that satisfy this condition will be included in the new list.\n",
    "\n",
    "`Here's the general order of execution:`\n",
    "\n",
    "**1. for item in iterable:** Iteration over the original iterable.<br>\n",
    "**2. if condition == True(if present):** Filtering items based on the condition.<br>\n",
    "**3. expression:** Generating the new values for the list.<br>\n",
    "\n",
    "The iterable can be any iterable object, like a list, tuple, set etc.\n"
   ]
  },
  {
   "cell_type": "code",
   "execution_count": null,
   "metadata": {},
   "outputs": [],
   "source": [
    "fruits = [\"apple\", \"banana\", \"cherry\", \"kiwi\", \"mango\"]\n",
    "\n",
    "# with for loop \n",
    "newlist = []\n",
    "for x in fruits:\n",
    "  if \"a\" in x:\n",
    "    newlist.append(x)\n",
    "    \n",
    "# same thing with list comprehension \n",
    "newlist = [x for x in fruits if \"a\" in x] #no need to initialize newlist\n",
    "\n",
    "\n",
    "print(newlist)"
   ]
  },
  {
   "cell_type": "markdown",
   "metadata": {},
   "source": [
    "more examples of list comprehension "
   ]
  },
  {
   "cell_type": "code",
   "execution_count": null,
   "metadata": {},
   "outputs": [],
   "source": [
    "fruits = [\"apple\", \"banana\", \"cherry\", \"kiwi\", \"mango\"]\n",
    "# only accepts items that are not apple \n",
    "new_list = [x for x in fruits if x != \"apple\"]\n",
    "print(new_list)\n",
    "\n",
    "# With no if statement:\n",
    "new_list = [x for x in fruits]\n",
    "print(new_list)\n",
    "\n",
    "#accept only elements whose length is greater than 4 \n",
    "new_list = [x for x in fruits if len(x) > 4 ]\n",
    "print(new_list)\n",
    "\n",
    "#change the elements to upper case \n",
    "new_list = [x.upper() for x in fruits]\n",
    "print(new_list)\n",
    "\n",
    "# Return \"orange\" instead of \"banana\":\n",
    "new_list = [x if x != \"banana\" else \"orange\" for x in fruits]\n",
    "print(new_list)\n",
    "# its says ==> if x is not a banana return x else return orange \n"
   ]
  },
  {
   "cell_type": "markdown",
   "metadata": {},
   "source": [
    "## 5. List methods \n",
    "![Alt text](image-1.png)"
   ]
  },
  {
   "cell_type": "markdown",
   "metadata": {},
   "source": [
    "### 5.1 Sort\n",
    "List objects have a sort() method that will sort the list alphanumerically, ascending, by default:\n",
    "\n",
    "- sort is case sensitive "
   ]
  },
  {
   "cell_type": "code",
   "execution_count": null,
   "metadata": {},
   "outputs": [],
   "source": [
    "string_list = [\"orange\", \"mango\", \"kiwi\", \"pineapple\", \"banana\"]\n",
    "string_list.sort() # will sort alphabetically in ascending \n",
    "print(string_list)\n",
    "\n",
    "# for descending\n",
    "num_list = [100, 50, 65, 82, 23]\n",
    "num_list.sort(reverse=True) # wll sort the numbers in descending order\n",
    "print(num_list)"
   ]
  },
  {
   "cell_type": "markdown",
   "metadata": {},
   "source": [
    "### 5.2 Customizing sort function \n"
   ]
  },
  {
   "cell_type": "code",
   "execution_count": null,
   "metadata": {},
   "outputs": [],
   "source": [
    "def myfunc(n):\n",
    "  return abs(n - 50) # myfun returns [50, 0, 15, 32, 27]  smallest number \n",
    "\n",
    "thislist = [100, 50, 65, 82, 23]\n",
    "thislist.sort(key = myfunc) #myfunc will be called for each element in `thislist and sorting is done based on the result of myfun\n",
    "print(thislist)\n",
    "# Output: [50, 65, 82, 23, 100]\n",
    "\n"
   ]
  },
  {
   "cell_type": "markdown",
   "metadata": {},
   "source": [
    "## Joining the list \n",
    "- using `+` operator\n",
    "- using extend()\n",
    "- using append()\n",
    "- using joint()  #join list of string "
   ]
  },
  {
   "cell_type": "code",
   "execution_count": null,
   "metadata": {},
   "outputs": [],
   "source": [
    "list1 = [1, 2, 3, 4]\n",
    "list2 = [5, 6, 7, 8]\n",
    "\n",
    "#using + \n",
    "# print(list1 + list2) \n",
    "\n",
    "#using extend \n",
    "# list1.extend(list2) # modify list1 by adding list2\n",
    "print(list1)\n",
    "\n",
    "#using append method \n",
    "for x in list2:\n",
    "  list1.append(x)\n",
    "\n",
    "print(list1)\n",
    "\n",
    "#using join() method\n",
    "words = [\"Hello\", \"World\"]\n",
    "sentence = \" \".join(words)  # Creates \"Hello World\""
   ]
  }
 ],
 "metadata": {
  "kernelspec": {
   "display_name": "Python 3",
   "language": "python",
   "name": "python3"
  },
  "language_info": {
   "codemirror_mode": {
    "name": "ipython",
    "version": 3
   },
   "file_extension": ".py",
   "mimetype": "text/x-python",
   "name": "python",
   "nbconvert_exporter": "python",
   "pygments_lexer": "ipython3",
   "version": "3.11.5"
  }
 },
 "nbformat": 4,
 "nbformat_minor": 2
}
