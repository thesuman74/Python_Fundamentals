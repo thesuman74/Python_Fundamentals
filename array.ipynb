{
 "cells": [
  {
   "cell_type": "markdown",
   "metadata": {},
   "source": [
    "# Python Arrays\n",
    "- An aray is a special varibale , which can hold more than one value at a time .\n",
    "- Python does not have built-in support for Arrays, but Python Lists can be used instead.\n",
    "- To work with arrays in Python you will have to import a library, like the NumPy library. "
   ]
  }
 ],
 "metadata": {
  "kernelspec": {
   "display_name": "Python 3",
   "language": "python",
   "name": "python3"
  },
  "language_info": {
   "name": "python",
   "version": "3.11.5"
  }
 },
 "nbformat": 4,
 "nbformat_minor": 2
}
